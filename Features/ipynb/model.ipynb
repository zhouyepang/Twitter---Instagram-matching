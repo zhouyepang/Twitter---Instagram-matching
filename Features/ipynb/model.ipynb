{
 "cells": [
  {
   "cell_type": "code",
   "execution_count": 37,
   "metadata": {
    "collapsed": false
   },
   "outputs": [],
   "source": [
    "import pandas as pd\n",
    "import numpy as np\n",
    "from sklearn.model_selection import train_test_split\n",
    "from sklearn import tree\n",
    "from sklearn.ensemble import RandomForestClassifier\n",
    "from sklearn.ensemble import RandomForestRegressor\n",
    "from sklearn.neural_network import MLPClassifier\n",
    "from sklearn import metrics \n",
    "from sklearn.naive_bayes import MultinomialNB # multinomial naive bayes classifier\n",
    "from sklearn import svm\n",
    "from sklearn.linear_model import LogisticRegression # basic logistic regression classifier\n",
    "from sklearn.cross_validation import ShuffleSplit\n",
    "from sklearn.metrics import r2_score\n",
    "from collections import defaultdict"
   ]
  },
  {
   "cell_type": "code",
   "execution_count": 108,
   "metadata": {
    "collapsed": false
   },
   "outputs": [],
   "source": [
    "X=[]\n",
    "y=[]\n",
    "with open('feature_pn2-1.txt') as data_file:\n",
    "    for line in data_file:\n",
    "        \n",
    "        data = line.split(',')\n",
    "        X.append(list(map(float,data[:4])))\n",
    "        y.append(data[4].strip())\n",
    "        \n"
   ]
  },
  {
   "cell_type": "code",
   "execution_count": 109,
   "metadata": {
    "collapsed": true
   },
   "outputs": [],
   "source": [
    "\n",
    "X_train, X_test, y_train, y_test = train_test_split(X, y)\n"
   ]
  },
  {
   "cell_type": "code",
   "execution_count": 110,
   "metadata": {
    "collapsed": false
   },
   "outputs": [
    {
     "name": "stdout",
     "output_type": "stream",
     "text": [
      "Accuracy:\n",
      "0.770813047712\n",
      "Precision:\n",
      "0.888287322434\n",
      "Recall:\n",
      "0.752577319588\n",
      "F1:\n",
      "0.81482027831\n"
     ]
    }
   ],
   "source": [
    "#clf = MultinomialNB()\n",
    "clf = LogisticRegression()\n",
    "\n",
    "\n",
    "#clf = RandomForestClassifier(random_state=0)\n",
    "clf = clf.fit(X_train, y_train)\n",
    "#names = [\"ngram\",\"editDistance\",\"LCS\",\"LCSS\"]\n",
    "#print (sorted(zip(map(lambda x: round(x, 3), clf.feature_importances_), names), reverse=True))\n",
    "\n",
    "y_pred = clf.predict(X_test)\n",
    "\n",
    "print(\"Accuracy:\")\n",
    "print(metrics.accuracy_score(y_test, y_pred))\n",
    "print(\"Precision:\")\n",
    "print(metrics.precision_score(y_test, y_pred, pos_label=\"positive\"))\n",
    "print(\"Recall:\")\n",
    "print(metrics.recall_score(y_test, y_pred, pos_label=\"positive\"))\n",
    "print(\"F1:\")\n",
    "print(metrics.f1_score(y_test, y_pred, pos_label=\"positive\"))"
   ]
  }
 ],
 "metadata": {
  "kernelspec": {
   "display_name": "Python 3",
   "language": "python",
   "name": "python3"
  },
  "language_info": {
   "codemirror_mode": {
    "name": "ipython",
    "version": 3
   },
   "file_extension": ".py",
   "mimetype": "text/x-python",
   "name": "python",
   "nbconvert_exporter": "python",
   "pygments_lexer": "ipython3",
   "version": "3.6.0"
  }
 },
 "nbformat": 4,
 "nbformat_minor": 2
}
