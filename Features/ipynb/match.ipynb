{
 "cells": [
  {
   "cell_type": "code",
   "execution_count": 37,
   "metadata": {
    "collapsed": true
   },
   "outputs": [],
   "source": [
    "# Get truth data, positive username pairs \n",
    "\n",
    "import csv\n",
    "null = None\n",
    "false = False\n",
    "true = True\n",
    "\n",
    "\n",
    "def after(value, a):\n",
    "    # Find and validate first part.\n",
    "    pos_a = value.rfind(a)\n",
    "    if pos_a == -1: return \"\"\n",
    "    # Returns chars after the found string.\n",
    "    adjusted_pos_a = pos_a + len(a)\n",
    "    if adjusted_pos_a >= len(value): return \"\"\n",
    "    return value[adjusted_pos_a:]\n",
    "\n",
    "with open('twSmall.json', 'r') as js:\n",
    "    with open('sty_text.csv', 'w') as csvfile:\n",
    "        fieldnames = ['ins', 'tw', 'text']\n",
    "        writer = csv.DictWriter(csvfile, fieldnames=fieldnames)\n",
    "\n",
    "        writer.writeheader()\n",
    "        for line in js:\n",
    "            try:\n",
    "            \n",
    "                tweet = eval(line)\n",
    "                username = tweet[0][\"doc\"][\"user\"][\"screen_name\"]\n",
    "                \n",
    "                url = tweet[0][\"doc\"][\"user\"][\"entities\"][\"url\"][\"urls\"][0][\"expanded_url\"]\n",
    "                \n",
    "                text = tweet[0][\"doc\"][\"text\"]\n",
    "            \n",
    "                if \"instagram\" in url:\n",
    "                    ins = after(url, \"com/\")\n",
    "                    writer.writerow({'ins': ins, 'tw': username, 'text': text})\n",
    "                \n",
    "                \n",
    "            \n",
    "                \n",
    "            except Exception as e:\n",
    "                pass\n",
    "            \n",
    "            \n",
    "        "
   ]
  },
  {
   "cell_type": "code",
   "execution_count": null,
   "metadata": {
    "collapsed": true
   },
   "outputs": [],
   "source": []
  }
 ],
 "metadata": {
  "kernelspec": {
   "display_name": "Python 3",
   "language": "python",
   "name": "python3"
  },
  "language_info": {
   "codemirror_mode": {
    "name": "ipython",
    "version": 3
   },
   "file_extension": ".py",
   "mimetype": "text/x-python",
   "name": "python",
   "nbconvert_exporter": "python",
   "pygments_lexer": "ipython3",
   "version": "3.6.0"
  }
 },
 "nbformat": 4,
 "nbformat_minor": 2
}
